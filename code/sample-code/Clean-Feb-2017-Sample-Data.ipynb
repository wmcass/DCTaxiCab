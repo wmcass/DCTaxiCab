{
 "cells": [
  {
   "cell_type": "code",
   "execution_count": 2,
   "metadata": {},
   "outputs": [],
   "source": [
    "import pandas as pd\n",
    "import numpy as np\n",
    "import matplotlib.pyplot as plt\n",
    "\n",
    "plt.style.use('fivethirtyeight')\n",
    "\n",
    "data_location = \"/project/rcc/deep_learning_hack/dc-taxi/DCTaxiCab/data/sample/\"\n",
    "data_file = \"Taxicab_Trips_Sampling_in_February_2017.csv\"\n",
    "save_file = \"Taxicab_Trips_Sampling_in_February_2017-Cleaned.csv\""
   ]
  },
  {
   "cell_type": "code",
   "execution_count": 3,
   "metadata": {},
   "outputs": [],
   "source": [
    "# Read in Data\n",
    "sample_DF = pd.read_csv(data_location + data_file)"
   ]
  },
  {
   "cell_type": "code",
   "execution_count": 4,
   "metadata": {},
   "outputs": [
    {
     "data": {
      "text/plain": [
       "['OBJECTID_1',\n",
       " 'OBJECTID',\n",
       " 'TRIPTYPE',\n",
       " 'PROVIDER',\n",
       " 'METERFARE',\n",
       " 'TIP',\n",
       " 'SURCHARGE',\n",
       " 'EXTRAS',\n",
       " 'TOLLS',\n",
       " 'TOTALAMOUNT',\n",
       " 'PAYMENTTYPE',\n",
       " 'PAYMENTCARDPROVIDER',\n",
       " 'PICKUPCITY',\n",
       " 'PICKUPSTATE',\n",
       " 'PICKUPZIP',\n",
       " 'DROPOFFCITY',\n",
       " 'DROPOFFSTATE',\n",
       " 'DROPOFFZIP',\n",
       " 'TRIPMILEAGE',\n",
       " 'TRIPTIME',\n",
       " 'PICKUP_BLOCK_LATITUDE',\n",
       " 'PICKUP_BLOCK_LONGITUDE',\n",
       " 'PICKUP_BLOCKNAME',\n",
       " 'DROPOFF_BLOCK_LATITUDE',\n",
       " 'DROPOFF_BLOCK_LONGITUDE',\n",
       " 'DROPOFF_BLOCKNAME',\n",
       " 'AIRPORT',\n",
       " 'PICKUPDATETIME_TR',\n",
       " 'DROPOFFDATETIME_TR']"
      ]
     },
     "execution_count": 4,
     "metadata": {},
     "output_type": "execute_result"
    }
   ],
   "source": [
    "list(sample_DF)"
   ]
  },
  {
   "cell_type": "code",
   "execution_count": 5,
   "metadata": {},
   "outputs": [],
   "source": [
    "# Drop NA observations\n",
    "sample_DF = sample_DF[~sample_DF.isnull().any(axis=1)]"
   ]
  },
  {
   "cell_type": "code",
   "execution_count": 6,
   "metadata": {},
   "outputs": [],
   "source": [
    "# Convert Columns to Proper Dates\n",
    "# sample_DF['PICKUPDATETIME_TR']  = sample_DF.PICKUPDATETIME_TR.astype('datetime64[ns]')\n",
    "# sample_DF['DROPOFFDATETIME_TR'] = sample_DF.DROPOFFDATETIME_TR.astype('datetime64[ns]')"
   ]
  },
  {
   "cell_type": "code",
   "execution_count": 7,
   "metadata": {},
   "outputs": [],
   "source": [
    "# sample_DF['Time'] = sample_DF['DROPOFFDATETIME_TR'] - sample_DF['PICKUPDATETIME_TR']"
   ]
  },
  {
   "cell_type": "code",
   "execution_count": 8,
   "metadata": {},
   "outputs": [],
   "source": [
    "# sample_DF = sample_DF[sample_DF['Time'] > pd.Timedelta('90 seconds')]"
   ]
  },
  {
   "cell_type": "code",
   "execution_count": 11,
   "metadata": {},
   "outputs": [
    {
     "data": {
      "text/plain": [
       "count    30077.000000\n",
       "mean        17.447019\n",
       "std         42.121729\n",
       "min          0.000000\n",
       "25%          9.000000\n",
       "50%         13.000000\n",
       "75%         19.000000\n",
       "max       1224.000000\n",
       "Name: TRIPTIME, dtype: float64"
      ]
     },
     "execution_count": 11,
     "metadata": {},
     "output_type": "execute_result"
    }
   ],
   "source": [
    "sample_DF.TRIPTIME.describe()"
   ]
  },
  {
   "cell_type": "code",
   "execution_count": 19,
   "metadata": {},
   "outputs": [
    {
     "data": {
      "text/plain": [
       "<matplotlib.axes._subplots.AxesSubplot at 0x7fad97d185f8>"
      ]
     },
     "execution_count": 19,
     "metadata": {},
     "output_type": "execute_result"
    },
    {
     "data": {
      "image/png": "[encoded data removed]",
      "text/plain": [
       "<Figure size 432x288 with 1 Axes>"
      ]
     },
     "metadata": {},
     "output_type": "display_data"
    }
   ],
   "source": [
    "sample_DF.TRIPTIME.plot.hist(bins = 1000, )"
   ]
  },
  {
   "cell_type": "code",
   "execution_count": 13,
   "metadata": {},
   "outputs": [],
   "source": [
    "sample_DF.to_csv(data_location + save_file)"
   ]
  }
 ],
 "metadata": {
  "kernelspec": {
   "display_name": "Python [conda env:Anaconda3-5.0.1-el7-x86_64]",
   "language": "python",
   "name": "conda-env-Anaconda3-5.0.1-el7-x86_64-py"
  },
  "language_info": {
   "codemirror_mode": {
    "name": "ipython",
    "version": 3
   },
   "file_extension": ".py",
   "mimetype": "text/x-python",
   "name": "python",
   "nbconvert_exporter": "python",
   "pygments_lexer": "ipython3",
   "version": "3.6.3"
  }
 },
 "nbformat": 4,
 "nbformat_minor": 2
}
